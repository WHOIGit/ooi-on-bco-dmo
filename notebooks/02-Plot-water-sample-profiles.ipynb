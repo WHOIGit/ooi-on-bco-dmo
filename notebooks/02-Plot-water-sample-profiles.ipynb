{
 "cells": [
  {
   "cell_type": "code",
   "execution_count": 49,
   "metadata": {},
   "outputs": [],
   "source": [
    "# Import modules\n",
    "import pandas as pd\n",
    "import matplotlib as mpl\n",
    "import matplotlib.pyplot as plt"
   ]
  },
  {
   "cell_type": "code",
   "execution_count": 2,
   "metadata": {},
   "outputs": [
    {
     "data": {
      "text/html": [
       "<div>\n",
       "<style scoped>\n",
       "    .dataframe tbody tr th:only-of-type {\n",
       "        vertical-align: middle;\n",
       "    }\n",
       "\n",
       "    .dataframe tbody tr th {\n",
       "        vertical-align: top;\n",
       "    }\n",
       "\n",
       "    .dataframe thead th {\n",
       "        text-align: right;\n",
       "    }\n",
       "</style>\n",
       "<table border=\"1\" class=\"dataframe\">\n",
       "  <thead>\n",
       "    <tr style=\"text-align: right;\">\n",
       "      <th></th>\n",
       "      <th>Cruise</th>\n",
       "      <th>Target_Asset</th>\n",
       "      <th>Start_Latitude</th>\n",
       "      <th>Start_Longitude</th>\n",
       "      <th>Start_Time</th>\n",
       "      <th>Cast</th>\n",
       "      <th>Cast_Flag</th>\n",
       "      <th>CTD_Bottle_Closure_Time</th>\n",
       "      <th>CTD_Latitude</th>\n",
       "      <th>CTD_Longitude</th>\n",
       "      <th>...</th>\n",
       "      <th>Discrete_Salinity_Flag</th>\n",
       "      <th>Discrete_Salinity_Replicate_Flag</th>\n",
       "      <th>CTD_Oxygen</th>\n",
       "      <th>CTD_Oxygen_Flag</th>\n",
       "      <th>CTD_Oxygen_Saturation</th>\n",
       "      <th>Discrete_Oxygen</th>\n",
       "      <th>Discrete_Oxygen_Flag</th>\n",
       "      <th>Discrete_Oxygen_Replicate_Flag</th>\n",
       "      <th>Discrete_Chlorophyll</th>\n",
       "      <th>Discrete_Phosphate</th>\n",
       "    </tr>\n",
       "  </thead>\n",
       "  <tbody>\n",
       "    <tr>\n",
       "      <th>0</th>\n",
       "      <td>KN221-04</td>\n",
       "      <td>Test Site #1</td>\n",
       "      <td>62.107</td>\n",
       "      <td>-31.381667</td>\n",
       "      <td>2014-09-08T11:39:06.000Z</td>\n",
       "      <td>1</td>\n",
       "      <td>*0000000000000100</td>\n",
       "      <td>2014-09-08T12:07:58.000Z</td>\n",
       "      <td>62.10702</td>\n",
       "      <td>-31.38174</td>\n",
       "      <td>...</td>\n",
       "      <td>NaN</td>\n",
       "      <td>NaN</td>\n",
       "      <td>6.3251</td>\n",
       "      <td>*0000000000000100</td>\n",
       "      <td>7.30825</td>\n",
       "      <td>NaN</td>\n",
       "      <td>NaN</td>\n",
       "      <td>NaN</td>\n",
       "      <td>NaN</td>\n",
       "      <td>NaN</td>\n",
       "    </tr>\n",
       "    <tr>\n",
       "      <th>1</th>\n",
       "      <td>KN221-04</td>\n",
       "      <td>Test Site #1</td>\n",
       "      <td>62.107</td>\n",
       "      <td>-31.381667</td>\n",
       "      <td>2014-09-08T11:39:06.000Z</td>\n",
       "      <td>1</td>\n",
       "      <td>*0000000000000100</td>\n",
       "      <td>2014-09-08T12:08:10.000Z</td>\n",
       "      <td>62.10702</td>\n",
       "      <td>-31.38176</td>\n",
       "      <td>...</td>\n",
       "      <td>NaN</td>\n",
       "      <td>NaN</td>\n",
       "      <td>6.3326</td>\n",
       "      <td>*0000000000000100</td>\n",
       "      <td>7.30829</td>\n",
       "      <td>NaN</td>\n",
       "      <td>NaN</td>\n",
       "      <td>NaN</td>\n",
       "      <td>NaN</td>\n",
       "      <td>NaN</td>\n",
       "    </tr>\n",
       "    <tr>\n",
       "      <th>2</th>\n",
       "      <td>KN221-04</td>\n",
       "      <td>Test Site #1</td>\n",
       "      <td>62.107</td>\n",
       "      <td>-31.381667</td>\n",
       "      <td>2014-09-08T11:39:06.000Z</td>\n",
       "      <td>1</td>\n",
       "      <td>*0000000000000100</td>\n",
       "      <td>2014-09-08T12:08:22.000Z</td>\n",
       "      <td>62.10702</td>\n",
       "      <td>-31.38176</td>\n",
       "      <td>...</td>\n",
       "      <td>NaN</td>\n",
       "      <td>NaN</td>\n",
       "      <td>6.3246</td>\n",
       "      <td>*0000000000000100</td>\n",
       "      <td>7.30832</td>\n",
       "      <td>NaN</td>\n",
       "      <td>NaN</td>\n",
       "      <td>NaN</td>\n",
       "      <td>NaN</td>\n",
       "      <td>NaN</td>\n",
       "    </tr>\n",
       "    <tr>\n",
       "      <th>3</th>\n",
       "      <td>KN221-04</td>\n",
       "      <td>Test Site #1</td>\n",
       "      <td>62.107</td>\n",
       "      <td>-31.381667</td>\n",
       "      <td>2014-09-08T11:39:06.000Z</td>\n",
       "      <td>1</td>\n",
       "      <td>*0000000000000100</td>\n",
       "      <td>2014-09-08T12:08:30.000Z</td>\n",
       "      <td>62.10702</td>\n",
       "      <td>-31.38176</td>\n",
       "      <td>...</td>\n",
       "      <td>NaN</td>\n",
       "      <td>NaN</td>\n",
       "      <td>6.2751</td>\n",
       "      <td>*0000000000000100</td>\n",
       "      <td>7.30832</td>\n",
       "      <td>NaN</td>\n",
       "      <td>NaN</td>\n",
       "      <td>NaN</td>\n",
       "      <td>NaN</td>\n",
       "      <td>NaN</td>\n",
       "    </tr>\n",
       "    <tr>\n",
       "      <th>4</th>\n",
       "      <td>KN221-04</td>\n",
       "      <td>Test Site #1</td>\n",
       "      <td>62.107</td>\n",
       "      <td>-31.381667</td>\n",
       "      <td>2014-09-08T11:39:06.000Z</td>\n",
       "      <td>1</td>\n",
       "      <td>*0000000000000100</td>\n",
       "      <td>2014-09-08T12:08:38.000Z</td>\n",
       "      <td>62.10702</td>\n",
       "      <td>-31.38174</td>\n",
       "      <td>...</td>\n",
       "      <td>NaN</td>\n",
       "      <td>NaN</td>\n",
       "      <td>6.2838</td>\n",
       "      <td>*0000000000000100</td>\n",
       "      <td>7.30835</td>\n",
       "      <td>NaN</td>\n",
       "      <td>NaN</td>\n",
       "      <td>NaN</td>\n",
       "      <td>NaN</td>\n",
       "      <td>NaN</td>\n",
       "    </tr>\n",
       "  </tbody>\n",
       "</table>\n",
       "<p>5 rows × 44 columns</p>\n",
       "</div>"
      ],
      "text/plain": [
       "     Cruise  Target_Asset  Start_Latitude  Start_Longitude  \\\n",
       "0  KN221-04  Test Site #1          62.107       -31.381667   \n",
       "1  KN221-04  Test Site #1          62.107       -31.381667   \n",
       "2  KN221-04  Test Site #1          62.107       -31.381667   \n",
       "3  KN221-04  Test Site #1          62.107       -31.381667   \n",
       "4  KN221-04  Test Site #1          62.107       -31.381667   \n",
       "\n",
       "                 Start_Time Cast          Cast_Flag   CTD_Bottle_Closure_Time  \\\n",
       "0  2014-09-08T11:39:06.000Z    1  *0000000000000100  2014-09-08T12:07:58.000Z   \n",
       "1  2014-09-08T11:39:06.000Z    1  *0000000000000100  2014-09-08T12:08:10.000Z   \n",
       "2  2014-09-08T11:39:06.000Z    1  *0000000000000100  2014-09-08T12:08:22.000Z   \n",
       "3  2014-09-08T11:39:06.000Z    1  *0000000000000100  2014-09-08T12:08:30.000Z   \n",
       "4  2014-09-08T11:39:06.000Z    1  *0000000000000100  2014-09-08T12:08:38.000Z   \n",
       "\n",
       "   CTD_Latitude  CTD_Longitude  ...  Discrete_Salinity_Flag  \\\n",
       "0      62.10702      -31.38174  ...                     NaN   \n",
       "1      62.10702      -31.38176  ...                     NaN   \n",
       "2      62.10702      -31.38176  ...                     NaN   \n",
       "3      62.10702      -31.38176  ...                     NaN   \n",
       "4      62.10702      -31.38174  ...                     NaN   \n",
       "\n",
       "  Discrete_Salinity_Replicate_Flag  CTD_Oxygen    CTD_Oxygen_Flag  \\\n",
       "0                              NaN      6.3251  *0000000000000100   \n",
       "1                              NaN      6.3326  *0000000000000100   \n",
       "2                              NaN      6.3246  *0000000000000100   \n",
       "3                              NaN      6.2751  *0000000000000100   \n",
       "4                              NaN      6.2838  *0000000000000100   \n",
       "\n",
       "   CTD_Oxygen_Saturation  Discrete_Oxygen  Discrete_Oxygen_Flag  \\\n",
       "0                7.30825              NaN                   NaN   \n",
       "1                7.30829              NaN                   NaN   \n",
       "2                7.30832              NaN                   NaN   \n",
       "3                7.30832              NaN                   NaN   \n",
       "4                7.30835              NaN                   NaN   \n",
       "\n",
       "  Discrete_Oxygen_Replicate_Flag Discrete_Chlorophyll  Discrete_Phosphate  \n",
       "0                            NaN                  NaN                 NaN  \n",
       "1                            NaN                  NaN                 NaN  \n",
       "2                            NaN                  NaN                 NaN  \n",
       "3                            NaN                  NaN                 NaN  \n",
       "4                            NaN                  NaN                 NaN  \n",
       "\n",
       "[5 rows x 44 columns]"
      ]
     },
     "execution_count": 2,
     "metadata": {},
     "output_type": "execute_result"
    }
   ],
   "source": [
    "# Load data from notebook 1 into a Pandas Dataframe\n",
    "df = pd.read_csv(\"../data/external/irminger_sea_subset.csv\")\n",
    "df.head() # Print the first 5 rows of the DataFrame"
   ]
  },
  {
   "cell_type": "code",
   "execution_count": 3,
   "metadata": {},
   "outputs": [],
   "source": [
    "# Query all cast data from 1 cruise\n",
    "cruise_id = \"AR76-03\"\n",
    "ar76 = df.query(\"`Cruise`==@cruise_id\")"
   ]
  },
  {
   "cell_type": "code",
   "execution_count": 4,
   "metadata": {},
   "outputs": [
    {
     "data": {
      "text/html": [
       "<div>\n",
       "<style scoped>\n",
       "    .dataframe tbody tr th:only-of-type {\n",
       "        vertical-align: middle;\n",
       "    }\n",
       "\n",
       "    .dataframe tbody tr th {\n",
       "        vertical-align: top;\n",
       "    }\n",
       "\n",
       "    .dataframe thead th {\n",
       "        text-align: right;\n",
       "    }\n",
       "</style>\n",
       "<table border=\"1\" class=\"dataframe\">\n",
       "  <thead>\n",
       "    <tr style=\"text-align: right;\">\n",
       "      <th></th>\n",
       "      <th>index</th>\n",
       "      <th>Cruise</th>\n",
       "      <th>Target_Asset</th>\n",
       "      <th>Start_Latitude</th>\n",
       "      <th>Start_Longitude</th>\n",
       "      <th>Start_Time</th>\n",
       "      <th>Cast</th>\n",
       "      <th>Cast_Flag</th>\n",
       "      <th>CTD_Bottle_Closure_Time</th>\n",
       "      <th>CTD_Latitude</th>\n",
       "      <th>...</th>\n",
       "      <th>Discrete_Salinity_Flag</th>\n",
       "      <th>Discrete_Salinity_Replicate_Flag</th>\n",
       "      <th>CTD_Oxygen</th>\n",
       "      <th>CTD_Oxygen_Flag</th>\n",
       "      <th>CTD_Oxygen_Saturation</th>\n",
       "      <th>Discrete_Oxygen</th>\n",
       "      <th>Discrete_Oxygen_Flag</th>\n",
       "      <th>Discrete_Oxygen_Replicate_Flag</th>\n",
       "      <th>Discrete_Chlorophyll</th>\n",
       "      <th>Discrete_Phosphate</th>\n",
       "    </tr>\n",
       "  </thead>\n",
       "  <tbody>\n",
       "    <tr>\n",
       "      <th>0</th>\n",
       "      <td>1862</td>\n",
       "      <td>AR76-03</td>\n",
       "      <td>SUMO</td>\n",
       "      <td>59.929833</td>\n",
       "      <td>-39.4965</td>\n",
       "      <td>2023-09-06T22:04:18.000Z</td>\n",
       "      <td>006</td>\n",
       "      <td>*0000000000000100</td>\n",
       "      <td>2023-09-06T22:56:42.000Z</td>\n",
       "      <td>59.92374</td>\n",
       "      <td>...</td>\n",
       "      <td>*0000000000000100</td>\n",
       "      <td>*0000000000000100</td>\n",
       "      <td>7.2540</td>\n",
       "      <td>*0000000000000100</td>\n",
       "      <td>7.70983</td>\n",
       "      <td>6.811</td>\n",
       "      <td>*0000000000000100</td>\n",
       "      <td>*0000000000000100</td>\n",
       "      <td>NaN</td>\n",
       "      <td>NaN</td>\n",
       "    </tr>\n",
       "    <tr>\n",
       "      <th>1</th>\n",
       "      <td>1863</td>\n",
       "      <td>AR76-03</td>\n",
       "      <td>SUMO</td>\n",
       "      <td>59.929833</td>\n",
       "      <td>-39.4965</td>\n",
       "      <td>2023-09-06T22:04:18.000Z</td>\n",
       "      <td>006</td>\n",
       "      <td>*0000000000000100</td>\n",
       "      <td>2023-09-06T23:00:03.000Z</td>\n",
       "      <td>59.92344</td>\n",
       "      <td>...</td>\n",
       "      <td>*0000000000000100</td>\n",
       "      <td>*0000000000000100</td>\n",
       "      <td>7.2692</td>\n",
       "      <td>*0000000000000100</td>\n",
       "      <td>7.70535</td>\n",
       "      <td>6.663</td>\n",
       "      <td>*0000000000000100</td>\n",
       "      <td>*0000000000000100</td>\n",
       "      <td>NaN</td>\n",
       "      <td>NaN</td>\n",
       "    </tr>\n",
       "    <tr>\n",
       "      <th>2</th>\n",
       "      <td>1864</td>\n",
       "      <td>AR76-03</td>\n",
       "      <td>SUMO</td>\n",
       "      <td>59.929833</td>\n",
       "      <td>-39.4965</td>\n",
       "      <td>2023-09-06T22:04:18.000Z</td>\n",
       "      <td>006</td>\n",
       "      <td>*0000000000000100</td>\n",
       "      <td>2023-09-06T23:07:03.000Z</td>\n",
       "      <td>59.92280</td>\n",
       "      <td>...</td>\n",
       "      <td>*0000000000000100</td>\n",
       "      <td>*0000000000000100</td>\n",
       "      <td>6.9391</td>\n",
       "      <td>*0000000000000100</td>\n",
       "      <td>7.50542</td>\n",
       "      <td>6.537</td>\n",
       "      <td>*0000000000000100</td>\n",
       "      <td>*0000000000000100</td>\n",
       "      <td>NaN</td>\n",
       "      <td>NaN</td>\n",
       "    </tr>\n",
       "    <tr>\n",
       "      <th>3</th>\n",
       "      <td>1865</td>\n",
       "      <td>AR76-03</td>\n",
       "      <td>SUMO</td>\n",
       "      <td>59.929833</td>\n",
       "      <td>-39.4965</td>\n",
       "      <td>2023-09-06T22:04:18.000Z</td>\n",
       "      <td>006</td>\n",
       "      <td>*0000000000000100</td>\n",
       "      <td>2023-09-06T23:16:04.000Z</td>\n",
       "      <td>59.92208</td>\n",
       "      <td>...</td>\n",
       "      <td>*0000000000000100</td>\n",
       "      <td>*0000000000000100</td>\n",
       "      <td>6.7410</td>\n",
       "      <td>*0000000000000100</td>\n",
       "      <td>7.36171</td>\n",
       "      <td>6.319</td>\n",
       "      <td>*0000000000000100</td>\n",
       "      <td>*0000000000000100</td>\n",
       "      <td>NaN</td>\n",
       "      <td>0.885</td>\n",
       "    </tr>\n",
       "    <tr>\n",
       "      <th>4</th>\n",
       "      <td>1866</td>\n",
       "      <td>AR76-03</td>\n",
       "      <td>SUMO</td>\n",
       "      <td>59.929833</td>\n",
       "      <td>-39.4965</td>\n",
       "      <td>2023-09-06T22:04:18.000Z</td>\n",
       "      <td>006</td>\n",
       "      <td>*0000000000000100</td>\n",
       "      <td>2023-09-06T23:24:13.000Z</td>\n",
       "      <td>59.92130</td>\n",
       "      <td>...</td>\n",
       "      <td>*0000000000000100</td>\n",
       "      <td>*0000000000000100</td>\n",
       "      <td>6.8904</td>\n",
       "      <td>*0000000000000100</td>\n",
       "      <td>7.33861</td>\n",
       "      <td>6.487</td>\n",
       "      <td>*0000000000000100</td>\n",
       "      <td>*0000000000000100</td>\n",
       "      <td>NaN</td>\n",
       "      <td>0.836</td>\n",
       "    </tr>\n",
       "  </tbody>\n",
       "</table>\n",
       "<p>5 rows × 45 columns</p>\n",
       "</div>"
      ],
      "text/plain": [
       "   index   Cruise Target_Asset  Start_Latitude  Start_Longitude  \\\n",
       "0   1862  AR76-03         SUMO       59.929833         -39.4965   \n",
       "1   1863  AR76-03         SUMO       59.929833         -39.4965   \n",
       "2   1864  AR76-03         SUMO       59.929833         -39.4965   \n",
       "3   1865  AR76-03         SUMO       59.929833         -39.4965   \n",
       "4   1866  AR76-03         SUMO       59.929833         -39.4965   \n",
       "\n",
       "                 Start_Time Cast          Cast_Flag   CTD_Bottle_Closure_Time  \\\n",
       "0  2023-09-06T22:04:18.000Z  006  *0000000000000100  2023-09-06T22:56:42.000Z   \n",
       "1  2023-09-06T22:04:18.000Z  006  *0000000000000100  2023-09-06T23:00:03.000Z   \n",
       "2  2023-09-06T22:04:18.000Z  006  *0000000000000100  2023-09-06T23:07:03.000Z   \n",
       "3  2023-09-06T22:04:18.000Z  006  *0000000000000100  2023-09-06T23:16:04.000Z   \n",
       "4  2023-09-06T22:04:18.000Z  006  *0000000000000100  2023-09-06T23:24:13.000Z   \n",
       "\n",
       "   CTD_Latitude  ...  Discrete_Salinity_Flag  \\\n",
       "0      59.92374  ...       *0000000000000100   \n",
       "1      59.92344  ...       *0000000000000100   \n",
       "2      59.92280  ...       *0000000000000100   \n",
       "3      59.92208  ...       *0000000000000100   \n",
       "4      59.92130  ...       *0000000000000100   \n",
       "\n",
       "   Discrete_Salinity_Replicate_Flag CTD_Oxygen    CTD_Oxygen_Flag  \\\n",
       "0                 *0000000000000100     7.2540  *0000000000000100   \n",
       "1                 *0000000000000100     7.2692  *0000000000000100   \n",
       "2                 *0000000000000100     6.9391  *0000000000000100   \n",
       "3                 *0000000000000100     6.7410  *0000000000000100   \n",
       "4                 *0000000000000100     6.8904  *0000000000000100   \n",
       "\n",
       "   CTD_Oxygen_Saturation  Discrete_Oxygen  Discrete_Oxygen_Flag  \\\n",
       "0                7.70983            6.811     *0000000000000100   \n",
       "1                7.70535            6.663     *0000000000000100   \n",
       "2                7.50542            6.537     *0000000000000100   \n",
       "3                7.36171            6.319     *0000000000000100   \n",
       "4                7.33861            6.487     *0000000000000100   \n",
       "\n",
       "   Discrete_Oxygen_Replicate_Flag Discrete_Chlorophyll Discrete_Phosphate  \n",
       "0               *0000000000000100                  NaN                NaN  \n",
       "1               *0000000000000100                  NaN                NaN  \n",
       "2               *0000000000000100                  NaN                NaN  \n",
       "3               *0000000000000100                  NaN              0.885  \n",
       "4               *0000000000000100                  NaN              0.836  \n",
       "\n",
       "[5 rows x 45 columns]"
      ]
     },
     "execution_count": 4,
     "metadata": {},
     "output_type": "execute_result"
    }
   ],
   "source": [
    "# Query cast data for a particular target mooring and reset the index\n",
    "mooring = \"SUMO\"\n",
    "ar76_sumo = ar76.query(\"`Target_Asset`==@mooring\")\n",
    "ar76_sumo.reset_index(inplace=True)\n",
    "ar76_sumo.head()"
   ]
  },
  {
   "cell_type": "code",
   "execution_count": 5,
   "metadata": {},
   "outputs": [
    {
     "name": "stdout",
     "output_type": "stream",
     "text": [
      "Index(['index', 'Cruise', 'Target_Asset', 'Start_Latitude', 'Start_Longitude',\n",
      "       'Start_Time', 'Cast', 'Cast_Flag', 'CTD_Bottle_Closure_Time',\n",
      "       'CTD_Latitude', 'CTD_Longitude', 'CTD_Pressure', 'CTD_Pressure_Flag',\n",
      "       'CTD_Depth', 'CTD_pH', 'CTD_pH_Flag', 'Discrete_pH', 'pH_Analysis_Temp',\n",
      "       'Discrete_pH_Flag', 'Discrete_pH_Replicate_Flag', 'Calculated_pH',\n",
      "       'Discrete_Nitrate', 'Discrete_Nutrients_Flag',\n",
      "       'Discrete_Nutrients_Replicate_Flag', 'CTD_Fluorescence',\n",
      "       'CTD_Fluorescence_Flag', 'Discrete_Fluorescence_Flag',\n",
      "       'Discrete_Fluorescence_Replicate_Flag', 'CTD_Temperature_1',\n",
      "       'CTD_Temperature_1_Flag', 'CTD_Temperature_2', 'CTD_Temperature_2_Flag',\n",
      "       'CTD_Salinity_1', 'CTD_Salinity_2', 'Discrete_Salinity',\n",
      "       'Discrete_Salinity_Flag', 'Discrete_Salinity_Replicate_Flag',\n",
      "       'CTD_Oxygen', 'CTD_Oxygen_Flag', 'CTD_Oxygen_Saturation',\n",
      "       'Discrete_Oxygen', 'Discrete_Oxygen_Flag',\n",
      "       'Discrete_Oxygen_Replicate_Flag', 'Discrete_Chlorophyll',\n",
      "       'Discrete_Phosphate'],\n",
      "      dtype='object')\n"
     ]
    }
   ],
   "source": [
    "print(ar76_sumo.columns)"
   ]
  },
  {
   "cell_type": "code",
   "execution_count": 15,
   "metadata": {},
   "outputs": [
    {
     "data": {
      "text/plain": [
       "<matplotlib.collections.PathCollection at 0x1b91cbc4a50>"
      ]
     },
     "execution_count": 15,
     "metadata": {},
     "output_type": "execute_result"
    },
    {
     "data": {
      "image/png": "[encoded data removed]",
      "text/plain": [
       "<Figure size 640x480 with 1 Axes>"
      ]
     },
     "metadata": {},
     "output_type": "display_data"
    }
   ],
   "source": [
    "# Plot salinity data from discrete samples\n",
    "plt.scatter(ar76_sumo[\"Discrete_Salinity\"], ar76_sumo[\"CTD_Depth\"])\n",
    "ax = plt.gca()\n",
    "ax.invert_yaxis()\n",
    "plt.scatter(ar76_sumo[\"CTD_Salinity_1\"], ar76_sumo[\"CTD_Depth\"], c=\"k\", marker=\"^\")"
   ]
  },
  {
   "cell_type": "code",
   "execution_count": 16,
   "metadata": {},
   "outputs": [
    {
     "data": {
      "text/plain": [
       "array([34.8819, 34.8837, 34.9012, 34.9227, 34.9039, 34.8937, 34.8915,\n",
       "       34.8792, 34.8821, 34.9368, 34.8678, 34.9803, 34.9859,     nan,\n",
       "       34.9882, 34.9786, 34.8706, 34.8675, 34.8681,     nan, 34.8668])"
      ]
     },
     "execution_count": 16,
     "metadata": {},
     "output_type": "execute_result"
    }
   ],
   "source": [
    "ar76_sumo[\"Discrete_Salinity\"].values"
   ]
  },
  {
   "cell_type": "code",
   "execution_count": 17,
   "metadata": {},
   "outputs": [
    {
     "data": {
      "text/plain": [
       "array([34.8779, 34.8774, 34.8968, 34.9189, 34.8972, 34.888 , 34.8889,\n",
       "       34.8736, 34.8749, 34.9287, 34.879 , 34.9728, 34.9767, 34.9767,\n",
       "       34.9829, 34.9749, 34.8662, 34.8625, 34.8627, 34.8627, 34.8634])"
      ]
     },
     "execution_count": 17,
     "metadata": {},
     "output_type": "execute_result"
    }
   ],
   "source": [
    "ar76_sumo[\"CTD_Salinity_1\"].values"
   ]
  },
  {
   "cell_type": "code",
   "execution_count": 19,
   "metadata": {},
   "outputs": [
    {
     "data": {
      "text/plain": [
       "array([34.8784, 34.878 , 34.8978, 34.9196, 34.8974, 34.888 , 34.8886,\n",
       "       34.8731, 34.8743, 34.9283, 34.8788, 34.9725, 34.977 , 34.977 ,\n",
       "       34.9822, 34.9738, 34.8665, 34.8628, 34.8617, 34.8617, 34.8627])"
      ]
     },
     "execution_count": 19,
     "metadata": {},
     "output_type": "execute_result"
    }
   ],
   "source": [
    "ar76_sumo[\"CTD_Salinity_2\"].values"
   ]
  },
  {
   "cell_type": "code",
   "execution_count": 20,
   "metadata": {},
   "outputs": [
    {
     "data": {
      "text/plain": [
       "array([   nan,    nan,    nan, 12.409, 10.974, 12.053,    nan, 16.427,\n",
       "          nan, 13.813,    nan, 10.327, 12.84 , 11.229, 10.266,    nan,\n",
       "        7.348,    nan,  6.185,  5.418,  7.692])"
      ]
     },
     "execution_count": 20,
     "metadata": {},
     "output_type": "execute_result"
    }
   ],
   "source": [
    "ar76_sumo[\"Discrete_Nitrate\"].values"
   ]
  },
  {
   "cell_type": "code",
   "execution_count": 21,
   "metadata": {},
   "outputs": [
    {
     "data": {
      "text/plain": [
       "array([7.254 , 7.2692, 6.9391, 6.741 , 6.8904, 6.9143, 6.9073, 7.1314,\n",
       "       7.2858, 6.945 , 7.2954, 6.9114, 7.0089, 7.0089, 7.0357, 7.0141,\n",
       "       6.7871, 6.9236, 6.9871, 6.9871, 7.0481])"
      ]
     },
     "execution_count": 21,
     "metadata": {},
     "output_type": "execute_result"
    }
   ],
   "source": [
    "ar76_sumo[\"CTD_Oxygen\"].values"
   ]
  },
  {
   "cell_type": "code",
   "execution_count": 22,
   "metadata": {},
   "outputs": [
    {
     "data": {
      "text/plain": [
       "array([6.811, 6.663, 6.537, 6.319, 6.487, 6.491, 6.488, 6.669, 6.75 ,\n",
       "       6.406, 6.606, 6.397, 6.419,   nan, 6.415, 6.382, 6.434, 6.499,\n",
       "       6.524,   nan, 6.586])"
      ]
     },
     "execution_count": 22,
     "metadata": {},
     "output_type": "execute_result"
    }
   ],
   "source": [
    "ar76_sumo[\"Discrete_Oxygen\"].values"
   ]
  },
  {
   "cell_type": "code",
   "execution_count": null,
   "metadata": {},
   "outputs": [
    {
     "data": {
      "text/plain": [
       "<matplotlib.collections.PathCollection at 0x1b91cc2f4d0>"
      ]
     },
     "execution_count": 23,
     "metadata": {},
     "output_type": "execute_result"
    },
    {
     "data": {
      "image/png": "[encoded data removed]",
      "text/plain": [
       "<Figure size 640x480 with 1 Axes>"
      ]
     },
     "metadata": {},
     "output_type": "display_data"
    }
   ],
   "source": [
    "# Plot oxygen data from discrete samples\n",
    "plt.scatter(ar76_sumo[\"Discrete_Oxygen\"], ar76_sumo[\"CTD_Depth\"])\n",
    "ax = plt.gca()\n",
    "ax.invert_yaxis()\n",
    "plt.scatter(ar76_sumo[\"CTD_Oxygen\"], ar76_sumo[\"CTD_Depth\"], c=\"k\", marker=\"^\")"
   ]
  },
  {
   "cell_type": "code",
   "execution_count": 59,
   "metadata": {},
   "outputs": [],
   "source": [
    "some_vars = ar76_sumo[[\"CTD_Depth\", \"CTD_Oxygen\", \"Discrete_Oxygen\", \"Discrete_Salinity\", \"Discrete_Nitrate\"]]"
   ]
  },
  {
   "cell_type": "code",
   "execution_count": 60,
   "metadata": {},
   "outputs": [
    {
     "data": {
      "text/html": [
       "<div>\n",
       "<style scoped>\n",
       "    .dataframe tbody tr th:only-of-type {\n",
       "        vertical-align: middle;\n",
       "    }\n",
       "\n",
       "    .dataframe tbody tr th {\n",
       "        vertical-align: top;\n",
       "    }\n",
       "\n",
       "    .dataframe thead th {\n",
       "        text-align: right;\n",
       "    }\n",
       "</style>\n",
       "<table border=\"1\" class=\"dataframe\">\n",
       "  <thead>\n",
       "    <tr style=\"text-align: right;\">\n",
       "      <th></th>\n",
       "      <th>CTD_Depth</th>\n",
       "      <th>CTD_Oxygen</th>\n",
       "      <th>Discrete_Oxygen</th>\n",
       "      <th>Discrete_Salinity</th>\n",
       "      <th>Discrete_Nitrate</th>\n",
       "    </tr>\n",
       "  </thead>\n",
       "  <tbody>\n",
       "    <tr>\n",
       "      <th>0</th>\n",
       "      <td>2672.324</td>\n",
       "      <td>7.2540</td>\n",
       "      <td>6.811</td>\n",
       "      <td>34.8819</td>\n",
       "      <td>NaN</td>\n",
       "    </tr>\n",
       "    <tr>\n",
       "      <th>1</th>\n",
       "      <td>2596.505</td>\n",
       "      <td>7.2692</td>\n",
       "      <td>6.663</td>\n",
       "      <td>34.8837</td>\n",
       "      <td>NaN</td>\n",
       "    </tr>\n",
       "    <tr>\n",
       "      <th>2</th>\n",
       "      <td>2297.788</td>\n",
       "      <td>6.9391</td>\n",
       "      <td>6.537</td>\n",
       "      <td>34.9012</td>\n",
       "      <td>NaN</td>\n",
       "    </tr>\n",
       "    <tr>\n",
       "      <th>3</th>\n",
       "      <td>1849.115</td>\n",
       "      <td>6.7410</td>\n",
       "      <td>6.319</td>\n",
       "      <td>34.9227</td>\n",
       "      <td>12.409</td>\n",
       "    </tr>\n",
       "    <tr>\n",
       "      <th>4</th>\n",
       "      <td>1499.557</td>\n",
       "      <td>6.8904</td>\n",
       "      <td>6.487</td>\n",
       "      <td>34.9039</td>\n",
       "      <td>10.974</td>\n",
       "    </tr>\n",
       "    <tr>\n",
       "      <th>5</th>\n",
       "      <td>1001.272</td>\n",
       "      <td>6.9143</td>\n",
       "      <td>6.491</td>\n",
       "      <td>34.8937</td>\n",
       "      <td>12.053</td>\n",
       "    </tr>\n",
       "    <tr>\n",
       "      <th>6</th>\n",
       "      <td>750.873</td>\n",
       "      <td>6.9073</td>\n",
       "      <td>6.488</td>\n",
       "      <td>34.8915</td>\n",
       "      <td>NaN</td>\n",
       "    </tr>\n",
       "    <tr>\n",
       "      <th>7</th>\n",
       "      <td>502.750</td>\n",
       "      <td>7.1314</td>\n",
       "      <td>6.669</td>\n",
       "      <td>34.8792</td>\n",
       "      <td>16.427</td>\n",
       "    </tr>\n",
       "    <tr>\n",
       "      <th>8</th>\n",
       "      <td>352.939</td>\n",
       "      <td>7.2858</td>\n",
       "      <td>6.750</td>\n",
       "      <td>34.8821</td>\n",
       "      <td>NaN</td>\n",
       "    </tr>\n",
       "    <tr>\n",
       "      <th>9</th>\n",
       "      <td>253.800</td>\n",
       "      <td>6.9450</td>\n",
       "      <td>6.406</td>\n",
       "      <td>34.9368</td>\n",
       "      <td>13.813</td>\n",
       "    </tr>\n",
       "    <tr>\n",
       "      <th>10</th>\n",
       "      <td>183.902</td>\n",
       "      <td>7.2954</td>\n",
       "      <td>6.606</td>\n",
       "      <td>34.8678</td>\n",
       "      <td>NaN</td>\n",
       "    </tr>\n",
       "    <tr>\n",
       "      <th>11</th>\n",
       "      <td>133.918</td>\n",
       "      <td>6.9114</td>\n",
       "      <td>6.397</td>\n",
       "      <td>34.9803</td>\n",
       "      <td>10.327</td>\n",
       "    </tr>\n",
       "    <tr>\n",
       "      <th>12</th>\n",
       "      <td>104.209</td>\n",
       "      <td>7.0089</td>\n",
       "      <td>6.419</td>\n",
       "      <td>34.9859</td>\n",
       "      <td>12.840</td>\n",
       "    </tr>\n",
       "    <tr>\n",
       "      <th>13</th>\n",
       "      <td>104.209</td>\n",
       "      <td>7.0089</td>\n",
       "      <td>NaN</td>\n",
       "      <td>NaN</td>\n",
       "      <td>11.229</td>\n",
       "    </tr>\n",
       "    <tr>\n",
       "      <th>14</th>\n",
       "      <td>84.546</td>\n",
       "      <td>7.0357</td>\n",
       "      <td>6.415</td>\n",
       "      <td>34.9882</td>\n",
       "      <td>10.266</td>\n",
       "    </tr>\n",
       "    <tr>\n",
       "      <th>15</th>\n",
       "      <td>64.459</td>\n",
       "      <td>7.0141</td>\n",
       "      <td>6.382</td>\n",
       "      <td>34.9786</td>\n",
       "      <td>NaN</td>\n",
       "    </tr>\n",
       "    <tr>\n",
       "      <th>16</th>\n",
       "      <td>44.388</td>\n",
       "      <td>6.7871</td>\n",
       "      <td>6.434</td>\n",
       "      <td>34.8706</td>\n",
       "      <td>7.348</td>\n",
       "    </tr>\n",
       "    <tr>\n",
       "      <th>17</th>\n",
       "      <td>24.282</td>\n",
       "      <td>6.9236</td>\n",
       "      <td>6.499</td>\n",
       "      <td>34.8675</td>\n",
       "      <td>NaN</td>\n",
       "    </tr>\n",
       "    <tr>\n",
       "      <th>18</th>\n",
       "      <td>16.365</td>\n",
       "      <td>6.9871</td>\n",
       "      <td>6.524</td>\n",
       "      <td>34.8681</td>\n",
       "      <td>6.185</td>\n",
       "    </tr>\n",
       "    <tr>\n",
       "      <th>19</th>\n",
       "      <td>16.365</td>\n",
       "      <td>6.9871</td>\n",
       "      <td>NaN</td>\n",
       "      <td>NaN</td>\n",
       "      <td>5.418</td>\n",
       "    </tr>\n",
       "    <tr>\n",
       "      <th>20</th>\n",
       "      <td>3.618</td>\n",
       "      <td>7.0481</td>\n",
       "      <td>6.586</td>\n",
       "      <td>34.8668</td>\n",
       "      <td>7.692</td>\n",
       "    </tr>\n",
       "  </tbody>\n",
       "</table>\n",
       "</div>"
      ],
      "text/plain": [
       "    CTD_Depth  CTD_Oxygen  Discrete_Oxygen  Discrete_Salinity  \\\n",
       "0    2672.324      7.2540            6.811            34.8819   \n",
       "1    2596.505      7.2692            6.663            34.8837   \n",
       "2    2297.788      6.9391            6.537            34.9012   \n",
       "3    1849.115      6.7410            6.319            34.9227   \n",
       "4    1499.557      6.8904            6.487            34.9039   \n",
       "5    1001.272      6.9143            6.491            34.8937   \n",
       "6     750.873      6.9073            6.488            34.8915   \n",
       "7     502.750      7.1314            6.669            34.8792   \n",
       "8     352.939      7.2858            6.750            34.8821   \n",
       "9     253.800      6.9450            6.406            34.9368   \n",
       "10    183.902      7.2954            6.606            34.8678   \n",
       "11    133.918      6.9114            6.397            34.9803   \n",
       "12    104.209      7.0089            6.419            34.9859   \n",
       "13    104.209      7.0089              NaN                NaN   \n",
       "14     84.546      7.0357            6.415            34.9882   \n",
       "15     64.459      7.0141            6.382            34.9786   \n",
       "16     44.388      6.7871            6.434            34.8706   \n",
       "17     24.282      6.9236            6.499            34.8675   \n",
       "18     16.365      6.9871            6.524            34.8681   \n",
       "19     16.365      6.9871              NaN                NaN   \n",
       "20      3.618      7.0481            6.586            34.8668   \n",
       "\n",
       "    Discrete_Nitrate  \n",
       "0                NaN  \n",
       "1                NaN  \n",
       "2                NaN  \n",
       "3             12.409  \n",
       "4             10.974  \n",
       "5             12.053  \n",
       "6                NaN  \n",
       "7             16.427  \n",
       "8                NaN  \n",
       "9             13.813  \n",
       "10               NaN  \n",
       "11            10.327  \n",
       "12            12.840  \n",
       "13            11.229  \n",
       "14            10.266  \n",
       "15               NaN  \n",
       "16             7.348  \n",
       "17               NaN  \n",
       "18             6.185  \n",
       "19             5.418  \n",
       "20             7.692  "
      ]
     },
     "execution_count": 60,
     "metadata": {},
     "output_type": "execute_result"
    }
   ],
   "source": [
    "some_vars"
   ]
  },
  {
   "cell_type": "code",
   "execution_count": 40,
   "metadata": {},
   "outputs": [
    {
     "data": {
      "text/plain": [
       "<Axes: xlabel='CTD_Oxygen', ylabel='CTD_Depth'>"
      ]
     },
     "execution_count": 40,
     "metadata": {},
     "output_type": "execute_result"
    },
    {
     "data": {
      "image/png": "[encoded data removed]",
      "text/plain": [
       "<Figure size 640x480 with 1 Axes>"
      ]
     },
     "metadata": {},
     "output_type": "display_data"
    }
   ],
   "source": [
    "some_vars.plot(x=\"CTD_Oxygen\", y=\"CTD_Depth\", kind=\"scatter\", use_index=False, grid=True)"
   ]
  },
  {
   "cell_type": "code",
   "execution_count": 43,
   "metadata": {},
   "outputs": [],
   "source": [
    "# Query casts done near GI01SUMO\n",
    "sumo = df.query(\"`Target_Asset`==@mooring\")"
   ]
  },
  {
   "cell_type": "code",
   "execution_count": 54,
   "metadata": {},
   "outputs": [],
   "source": [
    "cast_cmap = mpl.colormaps['Accent'].reversed()"
   ]
  },
  {
   "cell_type": "code",
   "execution_count": 61,
   "metadata": {},
   "outputs": [
    {
     "data": {
      "text/plain": [
       "Text(0.5, 0, 'Discrete Nitrate')"
      ]
     },
     "execution_count": 61,
     "metadata": {},
     "output_type": "execute_result"
    },
    {
     "data": {
      "image/png": "[encoded data removed]",
      "text/plain": [
       "<Figure size 640x480 with 4 Axes>"
      ]
     },
     "metadata": {},
     "output_type": "display_data"
    }
   ],
   "source": [
    "# Create the subplots\n",
    "fig, axs = plt.subplots(1, 4, sharey=True, layout=\"tight\")\n",
    "axs[0].invert_yaxis()\n",
    "# CTD Oxygen\n",
    "plt.subplot(1,4,1)\n",
    "plt.scatter(x=sumo[\"CTD_Oxygen\"], y=sumo[\"CTD_Depth\"], c=sumo[\"Cast\"].astype(float), cmap=cast_cmap, edgecolors=\"none\")\n",
    "plt.grid()\n",
    "axs[0].set_xlabel(\"CTD Oxygen\")\n",
    "axs[0].set_ylabel(\"CTD Depth\")\n",
    "# Discrete Oxygen\n",
    "plt.subplot(1,4,2)\n",
    "plt.scatter(x=sumo[\"Discrete_Oxygen\"], y=sumo[\"CTD_Depth\"], c=sumo[\"Cast\"].astype(float), cmap=cast_cmap, edgecolors=\"none\")\n",
    "plt.grid()\n",
    "axs[1].set_xlabel(\"Discrete Oxygen\")\n",
    "# Discrete Salinity\n",
    "plt.subplot(1,4,3)\n",
    "plt.scatter(x=sumo[\"Discrete_Salinity\"], y=sumo[\"CTD_Depth\"], c=sumo[\"Cast\"].astype(float), cmap=cast_cmap, edgecolors=\"none\")\n",
    "plt.grid()\n",
    "axs[2].set_xlabel(\"Discrete Salinity\")\n",
    "# Discrete Nitrate\n",
    "plt.subplot(1,4,4)\n",
    "plt.scatter(x=sumo[\"Discrete_Nitrate\"], y=sumo[\"CTD_Depth\"], c=sumo[\"Cast\"].astype(float), cmap=cast_cmap, edgecolors=\"none\")\n",
    "plt.grid()\n",
    "axs[3].set_xlabel(\"Discrete Nitrate\")\n"
   ]
  },
  {
   "cell_type": "code",
   "execution_count": null,
   "metadata": {},
   "outputs": [],
   "source": []
  }
 ],
 "metadata": {
  "kernelspec": {
   "display_name": "ooi-on-bco-dmo",
   "language": "python",
   "name": "python3"
  },
  "language_info": {
   "codemirror_mode": {
    "name": "ipython",
    "version": 3
   },
   "file_extension": ".py",
   "mimetype": "text/x-python",
   "name": "python",
   "nbconvert_exporter": "python",
   "pygments_lexer": "ipython3",
   "version": "3.13.2"
  }
 },
 "nbformat": 4,
 "nbformat_minor": 2
}
