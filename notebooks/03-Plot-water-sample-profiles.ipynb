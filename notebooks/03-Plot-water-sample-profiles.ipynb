{
 "cells": [
  {
   "cell_type": "code",
   "execution_count": 1,
   "metadata": {},
   "outputs": [],
   "source": [
    "# Import modules\n",
    "import pandas as pd\n",
    "import matplotlib as mpl\n",
    "import matplotlib.pyplot as plt"
   ]
  },
  {
   "cell_type": "code",
   "execution_count": 2,
   "metadata": {},
   "outputs": [
    {
     "data": {
      "text/html": [
       "<div>\n",
       "<style scoped>\n",
       "    .dataframe tbody tr th:only-of-type {\n",
       "        vertical-align: middle;\n",
       "    }\n",
       "\n",
       "    .dataframe tbody tr th {\n",
       "        vertical-align: top;\n",
       "    }\n",
       "\n",
       "    .dataframe thead th {\n",
       "        text-align: right;\n",
       "    }\n",
       "</style>\n",
       "<table border=\"1\" class=\"dataframe\">\n",
       "  <thead>\n",
       "    <tr style=\"text-align: right;\">\n",
       "      <th></th>\n",
       "      <th>Cruise</th>\n",
       "      <th>Target_Asset</th>\n",
       "      <th>Start_Latitude</th>\n",
       "      <th>Start_Longitude</th>\n",
       "      <th>Start_Time</th>\n",
       "      <th>Cast</th>\n",
       "      <th>Cast_Flag</th>\n",
       "      <th>CTD_Bottle_Closure_Time</th>\n",
       "      <th>CTD_Latitude</th>\n",
       "      <th>CTD_Longitude</th>\n",
       "      <th>...</th>\n",
       "      <th>Discrete_Salinity_Flag</th>\n",
       "      <th>Discrete_Salinity_Replicate_Flag</th>\n",
       "      <th>CTD_Oxygen</th>\n",
       "      <th>CTD_Oxygen_Flag</th>\n",
       "      <th>CTD_Oxygen_Saturation</th>\n",
       "      <th>Discrete_Oxygen</th>\n",
       "      <th>Discrete_Oxygen_Flag</th>\n",
       "      <th>Discrete_Oxygen_Replicate_Flag</th>\n",
       "      <th>Discrete_Chlorophyll</th>\n",
       "      <th>Discrete_Phosphate</th>\n",
       "    </tr>\n",
       "  </thead>\n",
       "  <tbody>\n",
       "    <tr>\n",
       "      <th>0</th>\n",
       "      <td>KN221-04</td>\n",
       "      <td>Test Site #1</td>\n",
       "      <td>62.107</td>\n",
       "      <td>-31.381667</td>\n",
       "      <td>2014-09-08T11:39:06.000Z</td>\n",
       "      <td>1</td>\n",
       "      <td>*0000000000000100</td>\n",
       "      <td>2014-09-08T12:07:58.000Z</td>\n",
       "      <td>62.10702</td>\n",
       "      <td>-31.38174</td>\n",
       "      <td>...</td>\n",
       "      <td>NaN</td>\n",
       "      <td>NaN</td>\n",
       "      <td>6.3251</td>\n",
       "      <td>*0000000000000100</td>\n",
       "      <td>7.30825</td>\n",
       "      <td>NaN</td>\n",
       "      <td>NaN</td>\n",
       "      <td>NaN</td>\n",
       "      <td>NaN</td>\n",
       "      <td>NaN</td>\n",
       "    </tr>\n",
       "    <tr>\n",
       "      <th>1</th>\n",
       "      <td>KN221-04</td>\n",
       "      <td>Test Site #1</td>\n",
       "      <td>62.107</td>\n",
       "      <td>-31.381667</td>\n",
       "      <td>2014-09-08T11:39:06.000Z</td>\n",
       "      <td>1</td>\n",
       "      <td>*0000000000000100</td>\n",
       "      <td>2014-09-08T12:08:10.000Z</td>\n",
       "      <td>62.10702</td>\n",
       "      <td>-31.38176</td>\n",
       "      <td>...</td>\n",
       "      <td>NaN</td>\n",
       "      <td>NaN</td>\n",
       "      <td>6.3326</td>\n",
       "      <td>*0000000000000100</td>\n",
       "      <td>7.30829</td>\n",
       "      <td>NaN</td>\n",
       "      <td>NaN</td>\n",
       "      <td>NaN</td>\n",
       "      <td>NaN</td>\n",
       "      <td>NaN</td>\n",
       "    </tr>\n",
       "    <tr>\n",
       "      <th>2</th>\n",
       "      <td>KN221-04</td>\n",
       "      <td>Test Site #1</td>\n",
       "      <td>62.107</td>\n",
       "      <td>-31.381667</td>\n",
       "      <td>2014-09-08T11:39:06.000Z</td>\n",
       "      <td>1</td>\n",
       "      <td>*0000000000000100</td>\n",
       "      <td>2014-09-08T12:08:22.000Z</td>\n",
       "      <td>62.10702</td>\n",
       "      <td>-31.38176</td>\n",
       "      <td>...</td>\n",
       "      <td>NaN</td>\n",
       "      <td>NaN</td>\n",
       "      <td>6.3246</td>\n",
       "      <td>*0000000000000100</td>\n",
       "      <td>7.30832</td>\n",
       "      <td>NaN</td>\n",
       "      <td>NaN</td>\n",
       "      <td>NaN</td>\n",
       "      <td>NaN</td>\n",
       "      <td>NaN</td>\n",
       "    </tr>\n",
       "    <tr>\n",
       "      <th>3</th>\n",
       "      <td>KN221-04</td>\n",
       "      <td>Test Site #1</td>\n",
       "      <td>62.107</td>\n",
       "      <td>-31.381667</td>\n",
       "      <td>2014-09-08T11:39:06.000Z</td>\n",
       "      <td>1</td>\n",
       "      <td>*0000000000000100</td>\n",
       "      <td>2014-09-08T12:08:30.000Z</td>\n",
       "      <td>62.10702</td>\n",
       "      <td>-31.38176</td>\n",
       "      <td>...</td>\n",
       "      <td>NaN</td>\n",
       "      <td>NaN</td>\n",
       "      <td>6.2751</td>\n",
       "      <td>*0000000000000100</td>\n",
       "      <td>7.30832</td>\n",
       "      <td>NaN</td>\n",
       "      <td>NaN</td>\n",
       "      <td>NaN</td>\n",
       "      <td>NaN</td>\n",
       "      <td>NaN</td>\n",
       "    </tr>\n",
       "    <tr>\n",
       "      <th>4</th>\n",
       "      <td>KN221-04</td>\n",
       "      <td>Test Site #1</td>\n",
       "      <td>62.107</td>\n",
       "      <td>-31.381667</td>\n",
       "      <td>2014-09-08T11:39:06.000Z</td>\n",
       "      <td>1</td>\n",
       "      <td>*0000000000000100</td>\n",
       "      <td>2014-09-08T12:08:38.000Z</td>\n",
       "      <td>62.10702</td>\n",
       "      <td>-31.38174</td>\n",
       "      <td>...</td>\n",
       "      <td>NaN</td>\n",
       "      <td>NaN</td>\n",
       "      <td>6.2838</td>\n",
       "      <td>*0000000000000100</td>\n",
       "      <td>7.30835</td>\n",
       "      <td>NaN</td>\n",
       "      <td>NaN</td>\n",
       "      <td>NaN</td>\n",
       "      <td>NaN</td>\n",
       "      <td>NaN</td>\n",
       "    </tr>\n",
       "  </tbody>\n",
       "</table>\n",
       "<p>5 rows × 44 columns</p>\n",
       "</div>"
      ],
      "text/plain": [
       "     Cruise  Target_Asset  Start_Latitude  Start_Longitude  \\\n",
       "0  KN221-04  Test Site #1          62.107       -31.381667   \n",
       "1  KN221-04  Test Site #1          62.107       -31.381667   \n",
       "2  KN221-04  Test Site #1          62.107       -31.381667   \n",
       "3  KN221-04  Test Site #1          62.107       -31.381667   \n",
       "4  KN221-04  Test Site #1          62.107       -31.381667   \n",
       "\n",
       "                 Start_Time Cast          Cast_Flag   CTD_Bottle_Closure_Time  \\\n",
       "0  2014-09-08T11:39:06.000Z    1  *0000000000000100  2014-09-08T12:07:58.000Z   \n",
       "1  2014-09-08T11:39:06.000Z    1  *0000000000000100  2014-09-08T12:08:10.000Z   \n",
       "2  2014-09-08T11:39:06.000Z    1  *0000000000000100  2014-09-08T12:08:22.000Z   \n",
       "3  2014-09-08T11:39:06.000Z    1  *0000000000000100  2014-09-08T12:08:30.000Z   \n",
       "4  2014-09-08T11:39:06.000Z    1  *0000000000000100  2014-09-08T12:08:38.000Z   \n",
       "\n",
       "   CTD_Latitude  CTD_Longitude  ...  Discrete_Salinity_Flag  \\\n",
       "0      62.10702      -31.38174  ...                     NaN   \n",
       "1      62.10702      -31.38176  ...                     NaN   \n",
       "2      62.10702      -31.38176  ...                     NaN   \n",
       "3      62.10702      -31.38176  ...                     NaN   \n",
       "4      62.10702      -31.38174  ...                     NaN   \n",
       "\n",
       "  Discrete_Salinity_Replicate_Flag  CTD_Oxygen    CTD_Oxygen_Flag  \\\n",
       "0                              NaN      6.3251  *0000000000000100   \n",
       "1                              NaN      6.3326  *0000000000000100   \n",
       "2                              NaN      6.3246  *0000000000000100   \n",
       "3                              NaN      6.2751  *0000000000000100   \n",
       "4                              NaN      6.2838  *0000000000000100   \n",
       "\n",
       "   CTD_Oxygen_Saturation  Discrete_Oxygen  Discrete_Oxygen_Flag  \\\n",
       "0                7.30825              NaN                   NaN   \n",
       "1                7.30829              NaN                   NaN   \n",
       "2                7.30832              NaN                   NaN   \n",
       "3                7.30832              NaN                   NaN   \n",
       "4                7.30835              NaN                   NaN   \n",
       "\n",
       "  Discrete_Oxygen_Replicate_Flag Discrete_Chlorophyll  Discrete_Phosphate  \n",
       "0                            NaN                  NaN                 NaN  \n",
       "1                            NaN                  NaN                 NaN  \n",
       "2                            NaN                  NaN                 NaN  \n",
       "3                            NaN                  NaN                 NaN  \n",
       "4                            NaN                  NaN                 NaN  \n",
       "\n",
       "[5 rows x 44 columns]"
      ]
     },
     "execution_count": 2,
     "metadata": {},
     "output_type": "execute_result"
    }
   ],
   "source": [
    "# Load data from notebook 1 into a Pandas Dataframe\n",
    "df = pd.read_csv(\"../data/interim/irminger_sea_subset.csv\")\n",
    "df.head() # Print the first 5 rows of the DataFrame"
   ]
  },
  {
   "cell_type": "markdown",
   "metadata": {},
   "source": [
    "#### Plot data for single cruise near one mooring site"
   ]
  },
  {
   "cell_type": "code",
   "execution_count": 3,
   "metadata": {},
   "outputs": [
    {
     "data": {
      "text/plain": [
       "array(['KN221-04', 'AT30-01', 'AR7-01', 'AR21', 'AR30-03', 'AR35-05',\n",
       "       'AR46', 'AR60-01', 'AR69-01', 'AR76-03'], dtype=object)"
      ]
     },
     "execution_count": 3,
     "metadata": {},
     "output_type": "execute_result"
    }
   ],
   "source": [
    "# display unique Cruise\n",
    "df.Cruise.unique() # display unique one column"
   ]
  },
  {
   "cell_type": "code",
   "execution_count": 4,
   "metadata": {},
   "outputs": [],
   "source": [
    "# Query all cast data from 1 cruise\n",
    "cruise_id = \"AR76-03\"\n",
    "ar76 = df.query(\"`Cruise`==@cruise_id\")"
   ]
  },
  {
   "cell_type": "code",
   "execution_count": 5,
   "metadata": {},
   "outputs": [
    {
     "data": {
      "text/plain": [
       "array(['Acoustic release test', 'Glider deploy; Acoustic release test',\n",
       "       'HYPM; Acoustic release test', 'FLMA', 'SUMO', 'FLMB', 'OSNAP M3',\n",
       "       'OSNAP M2', 'OSNAP M1', 'OSNAP M4'], dtype=object)"
      ]
     },
     "execution_count": 5,
     "metadata": {},
     "output_type": "execute_result"
    }
   ],
   "source": [
    "# display unique Target_Asset\n",
    "ar76.Target_Asset.unique() # display unique one column"
   ]
  },
  {
   "cell_type": "code",
   "execution_count": 6,
   "metadata": {},
   "outputs": [
    {
     "data": {
      "text/html": [
       "<div>\n",
       "<style scoped>\n",
       "    .dataframe tbody tr th:only-of-type {\n",
       "        vertical-align: middle;\n",
       "    }\n",
       "\n",
       "    .dataframe tbody tr th {\n",
       "        vertical-align: top;\n",
       "    }\n",
       "\n",
       "    .dataframe thead th {\n",
       "        text-align: right;\n",
       "    }\n",
       "</style>\n",
       "<table border=\"1\" class=\"dataframe\">\n",
       "  <thead>\n",
       "    <tr style=\"text-align: right;\">\n",
       "      <th></th>\n",
       "      <th>index</th>\n",
       "      <th>Cruise</th>\n",
       "      <th>Target_Asset</th>\n",
       "      <th>Start_Latitude</th>\n",
       "      <th>Start_Longitude</th>\n",
       "      <th>Start_Time</th>\n",
       "      <th>Cast</th>\n",
       "      <th>Cast_Flag</th>\n",
       "      <th>CTD_Bottle_Closure_Time</th>\n",
       "      <th>CTD_Latitude</th>\n",
       "      <th>...</th>\n",
       "      <th>Discrete_Salinity_Flag</th>\n",
       "      <th>Discrete_Salinity_Replicate_Flag</th>\n",
       "      <th>CTD_Oxygen</th>\n",
       "      <th>CTD_Oxygen_Flag</th>\n",
       "      <th>CTD_Oxygen_Saturation</th>\n",
       "      <th>Discrete_Oxygen</th>\n",
       "      <th>Discrete_Oxygen_Flag</th>\n",
       "      <th>Discrete_Oxygen_Replicate_Flag</th>\n",
       "      <th>Discrete_Chlorophyll</th>\n",
       "      <th>Discrete_Phosphate</th>\n",
       "    </tr>\n",
       "  </thead>\n",
       "  <tbody>\n",
       "    <tr>\n",
       "      <th>0</th>\n",
       "      <td>1862</td>\n",
       "      <td>AR76-03</td>\n",
       "      <td>SUMO</td>\n",
       "      <td>59.929833</td>\n",
       "      <td>-39.4965</td>\n",
       "      <td>2023-09-06T22:04:18.000Z</td>\n",
       "      <td>006</td>\n",
       "      <td>*0000000000000100</td>\n",
       "      <td>2023-09-06T22:56:42.000Z</td>\n",
       "      <td>59.92374</td>\n",
       "      <td>...</td>\n",
       "      <td>*0000000000000100</td>\n",
       "      <td>*0000000000000100</td>\n",
       "      <td>7.2540</td>\n",
       "      <td>*0000000000000100</td>\n",
       "      <td>7.70983</td>\n",
       "      <td>6.811</td>\n",
       "      <td>*0000000000000100</td>\n",
       "      <td>*0000000000000100</td>\n",
       "      <td>NaN</td>\n",
       "      <td>NaN</td>\n",
       "    </tr>\n",
       "    <tr>\n",
       "      <th>1</th>\n",
       "      <td>1863</td>\n",
       "      <td>AR76-03</td>\n",
       "      <td>SUMO</td>\n",
       "      <td>59.929833</td>\n",
       "      <td>-39.4965</td>\n",
       "      <td>2023-09-06T22:04:18.000Z</td>\n",
       "      <td>006</td>\n",
       "      <td>*0000000000000100</td>\n",
       "      <td>2023-09-06T23:00:03.000Z</td>\n",
       "      <td>59.92344</td>\n",
       "      <td>...</td>\n",
       "      <td>*0000000000000100</td>\n",
       "      <td>*0000000000000100</td>\n",
       "      <td>7.2692</td>\n",
       "      <td>*0000000000000100</td>\n",
       "      <td>7.70535</td>\n",
       "      <td>6.663</td>\n",
       "      <td>*0000000000000100</td>\n",
       "      <td>*0000000000000100</td>\n",
       "      <td>NaN</td>\n",
       "      <td>NaN</td>\n",
       "    </tr>\n",
       "    <tr>\n",
       "      <th>2</th>\n",
       "      <td>1864</td>\n",
       "      <td>AR76-03</td>\n",
       "      <td>SUMO</td>\n",
       "      <td>59.929833</td>\n",
       "      <td>-39.4965</td>\n",
       "      <td>2023-09-06T22:04:18.000Z</td>\n",
       "      <td>006</td>\n",
       "      <td>*0000000000000100</td>\n",
       "      <td>2023-09-06T23:07:03.000Z</td>\n",
       "      <td>59.92280</td>\n",
       "      <td>...</td>\n",
       "      <td>*0000000000000100</td>\n",
       "      <td>*0000000000000100</td>\n",
       "      <td>6.9391</td>\n",
       "      <td>*0000000000000100</td>\n",
       "      <td>7.50542</td>\n",
       "      <td>6.537</td>\n",
       "      <td>*0000000000000100</td>\n",
       "      <td>*0000000000000100</td>\n",
       "      <td>NaN</td>\n",
       "      <td>NaN</td>\n",
       "    </tr>\n",
       "    <tr>\n",
       "      <th>3</th>\n",
       "      <td>1865</td>\n",
       "      <td>AR76-03</td>\n",
       "      <td>SUMO</td>\n",
       "      <td>59.929833</td>\n",
       "      <td>-39.4965</td>\n",
       "      <td>2023-09-06T22:04:18.000Z</td>\n",
       "      <td>006</td>\n",
       "      <td>*0000000000000100</td>\n",
       "      <td>2023-09-06T23:16:04.000Z</td>\n",
       "      <td>59.92208</td>\n",
       "      <td>...</td>\n",
       "      <td>*0000000000000100</td>\n",
       "      <td>*0000000000000100</td>\n",
       "      <td>6.7410</td>\n",
       "      <td>*0000000000000100</td>\n",
       "      <td>7.36171</td>\n",
       "      <td>6.319</td>\n",
       "      <td>*0000000000000100</td>\n",
       "      <td>*0000000000000100</td>\n",
       "      <td>NaN</td>\n",
       "      <td>0.885</td>\n",
       "    </tr>\n",
       "    <tr>\n",
       "      <th>4</th>\n",
       "      <td>1866</td>\n",
       "      <td>AR76-03</td>\n",
       "      <td>SUMO</td>\n",
       "      <td>59.929833</td>\n",
       "      <td>-39.4965</td>\n",
       "      <td>2023-09-06T22:04:18.000Z</td>\n",
       "      <td>006</td>\n",
       "      <td>*0000000000000100</td>\n",
       "      <td>2023-09-06T23:24:13.000Z</td>\n",
       "      <td>59.92130</td>\n",
       "      <td>...</td>\n",
       "      <td>*0000000000000100</td>\n",
       "      <td>*0000000000000100</td>\n",
       "      <td>6.8904</td>\n",
       "      <td>*0000000000000100</td>\n",
       "      <td>7.33861</td>\n",
       "      <td>6.487</td>\n",
       "      <td>*0000000000000100</td>\n",
       "      <td>*0000000000000100</td>\n",
       "      <td>NaN</td>\n",
       "      <td>0.836</td>\n",
       "    </tr>\n",
       "  </tbody>\n",
       "</table>\n",
       "<p>5 rows × 45 columns</p>\n",
       "</div>"
      ],
      "text/plain": [
       "   index   Cruise Target_Asset  Start_Latitude  Start_Longitude  \\\n",
       "0   1862  AR76-03         SUMO       59.929833         -39.4965   \n",
       "1   1863  AR76-03         SUMO       59.929833         -39.4965   \n",
       "2   1864  AR76-03         SUMO       59.929833         -39.4965   \n",
       "3   1865  AR76-03         SUMO       59.929833         -39.4965   \n",
       "4   1866  AR76-03         SUMO       59.929833         -39.4965   \n",
       "\n",
       "                 Start_Time Cast          Cast_Flag   CTD_Bottle_Closure_Time  \\\n",
       "0  2023-09-06T22:04:18.000Z  006  *0000000000000100  2023-09-06T22:56:42.000Z   \n",
       "1  2023-09-06T22:04:18.000Z  006  *0000000000000100  2023-09-06T23:00:03.000Z   \n",
       "2  2023-09-06T22:04:18.000Z  006  *0000000000000100  2023-09-06T23:07:03.000Z   \n",
       "3  2023-09-06T22:04:18.000Z  006  *0000000000000100  2023-09-06T23:16:04.000Z   \n",
       "4  2023-09-06T22:04:18.000Z  006  *0000000000000100  2023-09-06T23:24:13.000Z   \n",
       "\n",
       "   CTD_Latitude  ...  Discrete_Salinity_Flag  \\\n",
       "0      59.92374  ...       *0000000000000100   \n",
       "1      59.92344  ...       *0000000000000100   \n",
       "2      59.92280  ...       *0000000000000100   \n",
       "3      59.92208  ...       *0000000000000100   \n",
       "4      59.92130  ...       *0000000000000100   \n",
       "\n",
       "   Discrete_Salinity_Replicate_Flag CTD_Oxygen    CTD_Oxygen_Flag  \\\n",
       "0                 *0000000000000100     7.2540  *0000000000000100   \n",
       "1                 *0000000000000100     7.2692  *0000000000000100   \n",
       "2                 *0000000000000100     6.9391  *0000000000000100   \n",
       "3                 *0000000000000100     6.7410  *0000000000000100   \n",
       "4                 *0000000000000100     6.8904  *0000000000000100   \n",
       "\n",
       "   CTD_Oxygen_Saturation  Discrete_Oxygen  Discrete_Oxygen_Flag  \\\n",
       "0                7.70983            6.811     *0000000000000100   \n",
       "1                7.70535            6.663     *0000000000000100   \n",
       "2                7.50542            6.537     *0000000000000100   \n",
       "3                7.36171            6.319     *0000000000000100   \n",
       "4                7.33861            6.487     *0000000000000100   \n",
       "\n",
       "   Discrete_Oxygen_Replicate_Flag Discrete_Chlorophyll Discrete_Phosphate  \n",
       "0               *0000000000000100                  NaN                NaN  \n",
       "1               *0000000000000100                  NaN                NaN  \n",
       "2               *0000000000000100                  NaN                NaN  \n",
       "3               *0000000000000100                  NaN              0.885  \n",
       "4               *0000000000000100                  NaN              0.836  \n",
       "\n",
       "[5 rows x 45 columns]"
      ]
     },
     "execution_count": 6,
     "metadata": {},
     "output_type": "execute_result"
    }
   ],
   "source": [
    "# Query cast data for a particular target mooring and reset the index\n",
    "mooring = \"SUMO\"\n",
    "ar76_sumo = ar76.query(\"`Target_Asset`==@mooring\")\n",
    "ar76_sumo.reset_index(inplace=True)\n",
    "ar76_sumo.head()"
   ]
  },
  {
   "cell_type": "code",
   "execution_count": 7,
   "metadata": {},
   "outputs": [
    {
     "name": "stdout",
     "output_type": "stream",
     "text": [
      "Index(['index', 'Cruise', 'Target_Asset', 'Start_Latitude', 'Start_Longitude',\n",
      "       'Start_Time', 'Cast', 'Cast_Flag', 'CTD_Bottle_Closure_Time',\n",
      "       'CTD_Latitude', 'CTD_Longitude', 'CTD_Pressure', 'CTD_Pressure_Flag',\n",
      "       'CTD_Depth', 'CTD_pH', 'CTD_pH_Flag', 'Discrete_pH', 'pH_Analysis_Temp',\n",
      "       'Discrete_pH_Flag', 'Discrete_pH_Replicate_Flag', 'Calculated_pH',\n",
      "       'Discrete_Nitrate', 'Discrete_Nutrients_Flag',\n",
      "       'Discrete_Nutrients_Replicate_Flag', 'CTD_Fluorescence',\n",
      "       'CTD_Fluorescence_Flag', 'Discrete_Fluorescence_Flag',\n",
      "       'Discrete_Fluorescence_Replicate_Flag', 'CTD_Temperature_1',\n",
      "       'CTD_Temperature_1_Flag', 'CTD_Temperature_2', 'CTD_Temperature_2_Flag',\n",
      "       'CTD_Salinity_1', 'CTD_Salinity_2', 'Discrete_Salinity',\n",
      "       'Discrete_Salinity_Flag', 'Discrete_Salinity_Replicate_Flag',\n",
      "       'CTD_Oxygen', 'CTD_Oxygen_Flag', 'CTD_Oxygen_Saturation',\n",
      "       'Discrete_Oxygen', 'Discrete_Oxygen_Flag',\n",
      "       'Discrete_Oxygen_Replicate_Flag', 'Discrete_Chlorophyll',\n",
      "       'Discrete_Phosphate'],\n",
      "      dtype='object')\n"
     ]
    }
   ],
   "source": [
    "print(ar76_sumo.columns)"
   ]
  },
  {
   "cell_type": "code",
   "execution_count": 8,
   "metadata": {},
   "outputs": [
    {
     "data": {
      "text/plain": [
       "<matplotlib.collections.PathCollection at 0x1637de5e150>"
      ]
     },
     "execution_count": 8,
     "metadata": {},
     "output_type": "execute_result"
    },
    {
     "data": {
      "image/png": "[encoded data removed]",
      "text/plain": [
       "<Figure size 640x480 with 1 Axes>"
      ]
     },
     "metadata": {},
     "output_type": "display_data"
    }
   ],
   "source": [
    "# Plot salinity data from discrete samples\n",
    "plt.scatter(ar76_sumo[\"Discrete_Salinity\"], ar76_sumo[\"CTD_Depth\"])\n",
    "ax = plt.gca()\n",
    "ax.invert_yaxis()\n",
    "plt.scatter(ar76_sumo[\"CTD_Salinity_1\"], ar76_sumo[\"CTD_Depth\"], c=\"k\", marker=\"^\")"
   ]
  },
  {
   "cell_type": "code",
   "execution_count": 9,
   "metadata": {},
   "outputs": [
    {
     "data": {
      "text/plain": [
       "array([34.8819, 34.8837, 34.9012, 34.9227, 34.9039, 34.8937, 34.8915,\n",
       "       34.8792, 34.8821, 34.9368, 34.8678, 34.9803, 34.9859,     nan,\n",
       "       34.9882, 34.9786, 34.8706, 34.8675, 34.8681,     nan, 34.8668])"
      ]
     },
     "execution_count": 9,
     "metadata": {},
     "output_type": "execute_result"
    }
   ],
   "source": [
    "ar76_sumo[\"Discrete_Salinity\"].values"
   ]
  },
  {
   "cell_type": "code",
   "execution_count": 10,
   "metadata": {},
   "outputs": [
    {
     "data": {
      "text/plain": [
       "array([34.8779, 34.8774, 34.8968, 34.9189, 34.8972, 34.888 , 34.8889,\n",
       "       34.8736, 34.8749, 34.9287, 34.879 , 34.9728, 34.9767, 34.9767,\n",
       "       34.9829, 34.9749, 34.8662, 34.8625, 34.8627, 34.8627, 34.8634])"
      ]
     },
     "execution_count": 10,
     "metadata": {},
     "output_type": "execute_result"
    }
   ],
   "source": [
    "ar76_sumo[\"CTD_Salinity_1\"].values"
   ]
  },
  {
   "cell_type": "code",
   "execution_count": 11,
   "metadata": {},
   "outputs": [],
   "source": [
    "#ar76_sumo[\"CTD_Salinity_2\"].values"
   ]
  },
  {
   "cell_type": "code",
   "execution_count": 12,
   "metadata": {},
   "outputs": [],
   "source": [
    "#ar76_sumo[\"Discrete_Nitrate\"].values"
   ]
  },
  {
   "cell_type": "code",
   "execution_count": 13,
   "metadata": {},
   "outputs": [],
   "source": [
    "#ar76_sumo[\"CTD_Oxygen\"].values"
   ]
  },
  {
   "cell_type": "code",
   "execution_count": 14,
   "metadata": {},
   "outputs": [],
   "source": [
    "#ar76_sumo[\"Discrete_Oxygen\"].values"
   ]
  },
  {
   "cell_type": "code",
   "execution_count": 15,
   "metadata": {},
   "outputs": [
    {
     "data": {
      "text/plain": [
       "<matplotlib.collections.PathCollection at 0x1630002b4d0>"
      ]
     },
     "execution_count": 15,
     "metadata": {},
     "output_type": "execute_result"
    },
    {
     "data": {
      "image/png": "[encoded data removed]",
      "text/plain": [
       "<Figure size 640x480 with 1 Axes>"
      ]
     },
     "metadata": {},
     "output_type": "display_data"
    }
   ],
   "source": [
    "# Plot oxygen data from discrete samples\n",
    "plt.scatter(ar76_sumo[\"Discrete_Oxygen\"], ar76_sumo[\"CTD_Depth\"])\n",
    "ax = plt.gca()\n",
    "ax.invert_yaxis()\n",
    "plt.scatter(ar76_sumo[\"CTD_Oxygen\"], ar76_sumo[\"CTD_Depth\"], c=\"k\", marker=\"^\")"
   ]
  },
  {
   "cell_type": "code",
   "execution_count": 16,
   "metadata": {},
   "outputs": [],
   "source": [
    "#some_vars = ar76_sumo[[\"CTD_Depth\", \"CTD_Oxygen\", \"Discrete_Oxygen\", \"Discrete_Salinity\", \"Discrete_Nitrate\"]]"
   ]
  },
  {
   "cell_type": "code",
   "execution_count": 17,
   "metadata": {},
   "outputs": [],
   "source": [
    "#some_vars"
   ]
  },
  {
   "cell_type": "code",
   "execution_count": 18,
   "metadata": {},
   "outputs": [],
   "source": [
    "#some_vars.plot(x=\"CTD_Oxygen\", y=\"CTD_Depth\", kind=\"scatter\", use_index=False, grid=True)"
   ]
  },
  {
   "cell_type": "markdown",
   "metadata": {},
   "source": [
    "#### Plot data for all cruises near one mooring site"
   ]
  },
  {
   "cell_type": "code",
   "execution_count": 19,
   "metadata": {},
   "outputs": [],
   "source": [
    "# Query all casts done near GI01SUMO\n",
    "#sumo = df.query(\"`Target_Asset`==@mooring\")\n",
    "sumo = df[df['Target_Asset'].str.contains(\"SUMO\")]\n"
   ]
  },
  {
   "cell_type": "code",
   "execution_count": 20,
   "metadata": {},
   "outputs": [],
   "source": [
    "cast_cmap = mpl.colormaps['Accent'].reversed()"
   ]
  },
  {
   "cell_type": "code",
   "execution_count": 21,
   "metadata": {},
   "outputs": [
    {
     "data": {
      "text/plain": [
       "Text(0.5, 0, 'Discrete Nitrate')"
      ]
     },
     "execution_count": 21,
     "metadata": {},
     "output_type": "execute_result"
    },
    {
     "data": {
      "image/png": "[encoded data removed]",
      "text/plain": [
       "<Figure size 640x480 with 4 Axes>"
      ]
     },
     "metadata": {},
     "output_type": "display_data"
    }
   ],
   "source": [
    "# Create the subplots\n",
    "fig, axs = plt.subplots(1, 4, sharey=True, layout=\"tight\")\n",
    "axs[0].invert_yaxis()\n",
    "# CTD Oxygen\n",
    "plt.subplot(1,4,1)\n",
    "plt.scatter(x=sumo[\"CTD_Oxygen\"], y=sumo[\"CTD_Depth\"], c=sumo[\"Cast\"].astype(float), cmap=cast_cmap, edgecolors=\"none\")\n",
    "plt.grid()\n",
    "axs[0].set_xlabel(\"CTD Oxygen\")\n",
    "axs[0].set_ylabel(\"CTD Depth\")\n",
    "# Discrete Oxygen\n",
    "plt.subplot(1,4,2)\n",
    "plt.scatter(x=sumo[\"Discrete_Oxygen\"], y=sumo[\"CTD_Depth\"], c=sumo[\"Cast\"].astype(float), cmap=cast_cmap, edgecolors=\"none\")\n",
    "plt.grid()\n",
    "axs[1].set_xlabel(\"Discrete Oxygen\")\n",
    "# Discrete Salinity\n",
    "plt.subplot(1,4,3)\n",
    "plt.scatter(x=sumo[\"Discrete_Salinity\"], y=sumo[\"CTD_Depth\"], c=sumo[\"Cast\"].astype(float), cmap=cast_cmap, edgecolors=\"none\")\n",
    "plt.grid()\n",
    "axs[2].set_xlabel(\"Discrete Salinity\")\n",
    "# Discrete Nitrate\n",
    "plt.subplot(1,4,4)\n",
    "plt.scatter(x=sumo[\"Discrete_Nitrate\"], y=sumo[\"CTD_Depth\"], c=sumo[\"Cast\"].astype(float), cmap=cast_cmap, edgecolors=\"none\")\n",
    "plt.grid()\n",
    "axs[3].set_xlabel(\"Discrete Nitrate\")\n"
   ]
  },
  {
   "cell_type": "code",
   "execution_count": null,
   "metadata": {},
   "outputs": [],
   "source": []
  }
 ],
 "metadata": {
  "kernelspec": {
   "display_name": "Python 3 (ipykernel)",
   "language": "python",
   "name": "python3"
  },
  "language_info": {
   "codemirror_mode": {
    "name": "ipython",
    "version": 3
   },
   "file_extension": ".py",
   "mimetype": "text/x-python",
   "name": "python",
   "nbconvert_exporter": "python",
   "pygments_lexer": "ipython3",
   "version": "3.12.7"
  }
 },
 "nbformat": 4,
 "nbformat_minor": 4
}
